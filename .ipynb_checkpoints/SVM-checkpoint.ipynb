{
 "cells": [
  {
   "cell_type": "code",
   "execution_count": 6,
   "metadata": {},
   "outputs": [],
   "source": [
    "%matplotlib inline\n",
    "\n",
    "import matplotlib\n",
    "import numpy, random, math\n",
    "from scipy.optimize import minimize\n",
    "import matplotlib.pyplot as plt"
   ]
  },
  {
   "cell_type": "markdown",
   "metadata": {
    "collapsed": true
   },
   "source": [
    "## Generating data"
   ]
  },
  {
   "cell_type": "code",
   "execution_count": 3,
   "metadata": {
    "collapsed": true
   },
   "outputs": [],
   "source": [
    "random.seed(3000)\n",
    "\n",
    "classA = numpy.concatenate((numpy.random.randn(10, 2)*0.2+[1.5, 0.5],\n",
    "                            numpy.random.randn(10, 2)*0.2 + [-1.5, 0.5]))\n",
    "classB = numpy.random.randn(20, 2)*0.2 +[0, -0.5]\n",
    "\n",
    "inputs = numpy.concatenate((classA, classB))\n",
    "\n",
    "targets = numpy.concatenate((numpy.ones(classA.shape[0]),\n",
    "                             -numpy.ones(classB.shape[0])))\n",
    "\n",
    "N = inputs.shape[0] ## Number of rows ie. samples\n",
    "\n",
    "##Randomly order data\n",
    "permute = list(range(N))\n",
    "random.shuffle(permute)\n",
    "inputs = inputs[permute, :]\n",
    "targets = targets[permute]"
   ]
  },
  {
   "cell_type": "markdown",
   "metadata": {
    "collapsed": true
   },
   "source": [
    "## Kernel functions"
   ]
  },
  {
   "cell_type": "code",
   "execution_count": 4,
   "metadata": {
    "collapsed": true
   },
   "outputs": [],
   "source": [
    "def linearKernel(x, y):\n",
    "    return numpy.dot(numpy.transpose(x), y) + 1\n",
    "\n",
    "def quadraticKernel(x, y):\n",
    "    return (numpy.dot(numpy.transpose(x), y)+1)**2\n",
    "\n",
    "sigma = 4\n",
    "\n",
    "def rbfKernel(x, y):\n",
    "    d = np.substract(x, y)\n",
    "    temp = -(numpy.dot(d, d)/(2*np.power(sigma, 2)))\n",
    "    return numpy.exp(temp)"
   ]
  },
  {
   "cell_type": "markdown",
   "metadata": {},
   "source": [
    "## SVM"
   ]
  },
  {
   "cell_type": "code",
   "execution_count": 5,
   "metadata": {
    "collapsed": true
   },
   "outputs": [],
   "source": [
    "##Building kernel-matrix\n",
    "kernel = numpy.zeros((N, N))\n",
    "\n",
    "for i in range(0, N):\n",
    "    for j in range(0, N):\n",
    "        kernel[i, j] = linearKernel([(inputs[i])[0], (inputs[i])[1]],[(inputs[j])[0], (inputs[j])[1]])\n",
    "\n",
    "P = numpy.outer(targets, targets)*kernel\n",
    "\n",
    "##Objective function\n",
    "def objective(a):\n",
    "    temp = 0\n",
    "    for i in range(N):\n",
    "        for j in range(N):\n",
    "            temp += 0.5*a[i]*a[j]*P\n",
    "    temp -= numpy.sum(a)\n",
    "    return temp\n",
    "##Check whether matrix is symmetric\n",
    "def check_symmetric(a, tol=1e-8):\n",
    "    return numpy.allclose(a, a.T, atol=tol)"
   ]
  },
  {
   "cell_type": "markdown",
   "metadata": {},
   "source": [
    "## Plotting the data"
   ]
  },
  {
   "cell_type": "code",
   "execution_count": 7,
   "metadata": {},
   "outputs": [
    {
     "data": {
      "image/png": "[encoded data removed]",
      "text/plain": [
       "<matplotlib.figure.Figure at 0x10e1f0cc0>"
      ]
     },
     "metadata": {},
     "output_type": "display_data"
    }
   ],
   "source": [
    "plt.plot([p[0] for p in classA],\n",
    "         [p[1] for p in classA],\n",
    "         'b. ')\n",
    "plt.plot([p[0] for p in classB],\n",
    "         [p[1] for p in classB],\n",
    "         'r. ')\n",
    "\n",
    "##Plotting decision boundary\n",
    "xgrid = numpy.linspace(-5, 4)\n",
    "ygrid = numpy.linspace(-4, 4)\n",
    "\n",
    "\n",
    "\n",
    "plt.axis('equal')\n",
    "plt.show()"
   ]
  },
  {
   "cell_type": "code",
   "execution_count": null,
   "metadata": {
    "collapsed": true
   },
   "outputs": [],
   "source": []
  }
 ],
 "metadata": {
  "kernelspec": {
   "display_name": "Python 3",
   "language": "python",
   "name": "python3"
  },
  "language_info": {
   "codemirror_mode": {
    "name": "ipython",
    "version": 3
   },
   "file_extension": ".py",
   "mimetype": "text/x-python",
   "name": "python",
   "nbconvert_exporter": "python",
   "pygments_lexer": "ipython3",
   "version": "3.6.3"
  }
 },
 "nbformat": 4,
 "nbformat_minor": 2
}
