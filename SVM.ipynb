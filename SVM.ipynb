{
 "cells": [
  {
   "cell_type": "code",
   "execution_count": 18,
   "metadata": {},
   "outputs": [],
   "source": [
    "%matplotlib inline\n",
    "\n",
    "import matplotlib\n",
    "import numpy, random, math\n",
    "from scipy.optimize import minimize\n",
    "import matplotlib.pyplot as plt\n",
    "from matplotlib import style\n",
    "style.use(\"ggplot\")"
   ]
  },
  {
   "cell_type": "markdown",
   "metadata": {
    "collapsed": true
   },
   "source": [
    "## Generating data"
   ]
  },
  {
   "cell_type": "code",
   "execution_count": 3,
   "metadata": {
    "collapsed": true
   },
   "outputs": [],
   "source": [
    "random.seed(3000)\n",
    "\n",
    "classA = numpy.concatenate((numpy.random.randn(10, 2)*0.2+[1.5, 0.5],\n",
    "                            numpy.random.randn(10, 2)*0.2 + [-1.5, 0.5]))\n",
    "classB = numpy.random.randn(20, 2)*0.2 +[0, -0.5]\n",
    "\n",
    "inputs = numpy.concatenate((classA, classB))\n",
    "\n",
    "targets = numpy.concatenate((numpy.ones(classA.shape[0]),\n",
    "                             -numpy.ones(classB.shape[0])))\n",
    "\n",
    "N = inputs.shape[0] ## Number of rows ie. samples\n",
    "\n",
    "##Randomly order data\n",
    "permute = list(range(N))\n",
    "random.shuffle(permute)\n",
    "inputs = inputs[permute, :]\n",
    "targets = targets[permute]"
   ]
  },
  {
   "cell_type": "markdown",
   "metadata": {
    "collapsed": true
   },
   "source": [
    "## Kernel functions"
   ]
  },
  {
   "cell_type": "code",
   "execution_count": 14,
   "metadata": {},
   "outputs": [
    {
     "name": "stdout",
     "output_type": "stream",
     "text": [
      "[[ 0.15449047 -0.71453594]\n",
      " [ 0.08646717 -0.34833056]\n",
      " [ 1.42751416  0.46250116]\n",
      " [ 1.43162376  0.8152217 ]\n",
      " [ 1.83278221  0.5509133 ]\n",
      " [ 1.33349652  0.47870728]\n",
      " [ 1.43553833  0.55944382]\n",
      " [ 0.14974687 -0.45842092]\n",
      " [-0.01176186 -0.2832836 ]\n",
      " [-1.28529891  0.5856637 ]\n",
      " [ 0.00655745 -0.49294733]\n",
      " [ 0.1247806  -0.53852178]\n",
      " [-1.34218973  0.45343694]\n",
      " [ 1.58562569  0.32278781]\n",
      " [-0.53818283 -0.55366608]\n",
      " [-1.40826812  0.60082271]\n",
      " [-0.17654391 -0.73886775]\n",
      " [-1.59270642  0.35936805]\n",
      " [-1.40911098  0.38030062]\n",
      " [ 0.62018781 -0.617034  ]\n",
      " [ 0.05699547 -0.63950252]\n",
      " [-1.28252308  0.61021222]\n",
      " [-1.503896    0.72674472]\n",
      " [-0.10916138 -0.21005404]\n",
      " [-0.01636929 -0.32499242]\n",
      " [ 0.02083497 -0.69986125]\n",
      " [-0.47583147 -0.89002731]\n",
      " [ 1.29396156  0.40390923]\n",
      " [-0.24841895 -0.65461886]\n",
      " [-0.16351191 -0.61173222]\n",
      " [-0.51113708 -0.01545568]\n",
      " [-2.06702883 -0.15079851]\n",
      " [ 0.35092786 -0.69476786]\n",
      " [-0.38653123 -0.24128887]\n",
      " [ 1.33586378  0.56604199]\n",
      " [ 0.07114604 -0.45455208]\n",
      " [-1.31362879  0.66462952]\n",
      " [ 1.67101712  0.94682575]\n",
      " [-1.31997509  0.77966747]\n",
      " [ 1.45208982  0.61198059]]\n"
     ]
    }
   ],
   "source": [
    "def linearKernel(x, y):\n",
    "    return numpy.dot(numpy.transpose(x), y) + 1\n",
    "\n",
    "def quadraticKernel(x, y):\n",
    "    return (numpy.dot(numpy.transpose(x), y)+1)**2\n",
    "\n",
    "sigma = 4\n",
    "\n",
    "def rbfKernel(x, y):\n",
    "    d = np.substract(x, y)\n",
    "    temp = -(numpy.dot(d, d)/(2*np.power(sigma, 2)))\n",
    "    return numpy.exp(temp)\n",
    "\n",
    "print(inputs)"
   ]
  },
  {
   "cell_type": "markdown",
   "metadata": {},
   "source": [
    "## SVM"
   ]
  },
  {
   "cell_type": "code",
   "execution_count": 9,
   "metadata": {},
   "outputs": [
    {
     "name": "stdout",
     "output_type": "stream",
     "text": [
      "True\n"
     ]
    }
   ],
   "source": [
    "##Building kernel-matrix\n",
    "kernel = numpy.zeros((N, N))\n",
    "\n",
    "for i in range(0, N):\n",
    "    for j in range(0, N):\n",
    "        kernel[i, j] = linearKernel([(inputs[i])[0], (inputs[i])[1]],[(inputs[j])[0], (inputs[j])[1]])\n",
    "\n",
    "P = numpy.outer(targets, targets)*kernel\n",
    "\n",
    "##Objective function\n",
    "def objective(a):\n",
    "    temp = 0\n",
    "    for i in range(N):\n",
    "        for j in range(N):\n",
    "            temp += 0.5*a[i]*a[j]*P\n",
    "    temp -= numpy.sum(a)\n",
    "    return temp\n",
    "##Check whether matrix is symmetric\n",
    "def check_symmetric(a, tol=1e-8):\n",
    "    return numpy.allclose(a, a.T, atol=tol)\n",
    "\n",
    "print(check_symmetric(P))"
   ]
  },
  {
   "cell_type": "markdown",
   "metadata": {},
   "source": [
    "## Using framework"
   ]
  },
  {
   "cell_type": "code",
   "execution_count": 26,
   "metadata": {},
   "outputs": [
    {
     "data": {
      "text/plain": [
       "<matplotlib.collections.PathCollection at 0x1a173654e0>"
      ]
     },
     "execution_count": 26,
     "metadata": {},
     "output_type": "execute_result"
    },
    {
     "data": {
      "image/png": "[encoded data removed]",
      "text/plain": [
       "<matplotlib.figure.Figure at 0x1a17088978>"
      ]
     },
     "metadata": {},
     "output_type": "display_data"
    }
   ],
   "source": [
    "from sklearn import svm\n",
    "\n",
    "clf = svm.SVC(kernel='rbf', C=1.0)\n",
    "clf.fit(inputs, targets)\n",
    "\n",
    "#w = clf.coef_[0]\n",
    "#print(w)\n",
    "\n",
    "#a = -w[0]/w[1]\n",
    "\n",
    "##Plotting decision boundary\n",
    "xx = numpy.linspace(-3, 2)\n",
    "yy = numpy.linspace(-2, 2)\n",
    "\n",
    "h0 = plt.plot(xx, yy, 'k-', label='SVM boundaries')\n",
    "\n",
    "plt.scatter(inputs[:, 0], inputs[:, 1])\n"
   ]
  },
  {
   "cell_type": "markdown",
   "metadata": {},
   "source": [
    "## Plotting the data"
   ]
  },
  {
   "cell_type": "code",
   "execution_count": 7,
   "metadata": {},
   "outputs": [
    {
     "data": {
      "image/png": "[encoded data removed]",
      "text/plain": [
       "<matplotlib.figure.Figure at 0x10e1f0cc0>"
      ]
     },
     "metadata": {},
     "output_type": "display_data"
    }
   ],
   "source": [
    "plt.plot([p[0] for p in classA],\n",
    "         [p[1] for p in classA],\n",
    "         'b. ')\n",
    "plt.plot([p[0] for p in classB],\n",
    "         [p[1] for p in classB],\n",
    "         'r. ')\n",
    "\n",
    "##Plotting decision boundary\n",
    "xgrid = numpy.linspace(-5, 4)\n",
    "ygrid = numpy.linspace(-4, 4)\n",
    "grid = \n",
    "\n",
    "plt.contour (xgrid, ygrid ,grid, (−1.0, 0.0, 1.0), colors=(’red’, ’black’, ’blue’), linewidths=(1, 3, 1))\n",
    "\n",
    "plt.axis('equal')\n",
    "plt.show()"
   ]
  },
  {
   "cell_type": "code",
   "execution_count": null,
   "metadata": {
    "collapsed": true
   },
   "outputs": [],
   "source": []
  }
 ],
 "metadata": {
  "kernelspec": {
   "display_name": "Python 3",
   "language": "python",
   "name": "python3"
  },
  "language_info": {
   "codemirror_mode": {
    "name": "ipython",
    "version": 3
   },
   "file_extension": ".py",
   "mimetype": "text/x-python",
   "name": "python",
   "nbconvert_exporter": "python",
   "pygments_lexer": "ipython3",
   "version": "3.6.3"
  }
 },
 "nbformat": 4,
 "nbformat_minor": 2
}
